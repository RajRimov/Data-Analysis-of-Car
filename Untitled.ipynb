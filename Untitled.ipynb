{
 "cells": [
  {
   "cell_type": "code",
   "execution_count": 94,
   "id": "1bfa37c7",
   "metadata": {},
   "outputs": [],
   "source": [
    "import numpy as np\n",
    "import pandas as pd\n",
    "from PIL import Image\n",
    "import os\n",
    "import PIL\n",
    "import glob\n",
    "import urllib"
   ]
  },
  {
   "cell_type": "code",
   "execution_count": 17,
   "id": "2162d305",
   "metadata": {},
   "outputs": [
    {
     "data": {
      "text/html": [
       "<div>\n",
       "<style scoped>\n",
       "    .dataframe tbody tr th:only-of-type {\n",
       "        vertical-align: middle;\n",
       "    }\n",
       "\n",
       "    .dataframe tbody tr th {\n",
       "        vertical-align: top;\n",
       "    }\n",
       "\n",
       "    .dataframe thead th {\n",
       "        text-align: right;\n",
       "    }\n",
       "</style>\n",
       "<table border=\"1\" class=\"dataframe\">\n",
       "  <thead>\n",
       "    <tr style=\"text-align: right;\">\n",
       "      <th></th>\n",
       "      <th>Title</th>\n",
       "      <th>star-sum</th>\n",
       "      <th>product-price__regular</th>\n",
       "      <th>product sell price</th>\n",
       "      <th>Description</th>\n",
       "      <th>image</th>\n",
       "      <th>Category</th>\n",
       "    </tr>\n",
       "  </thead>\n",
       "  <tbody>\n",
       "    <tr>\n",
       "      <th>0</th>\n",
       "      <td>ThinkPad P17 Gen1 20SN000XGE - 17,3\" UHD IPS, ...</td>\n",
       "      <td>0.0</td>\n",
       "      <td>5.503,74 �</td>\n",
       "      <td>NaN</td>\n",
       "      <td>43,9 cm (17,3\") 3840 x 2160 Pixel (Ultra HD) I...</td>\n",
       "      <td>https://media.nbb-cdn.de/images/products/70000...</td>\n",
       "      <td>Notebook</td>\n",
       "    </tr>\n",
       "    <tr>\n",
       "      <th>1</th>\n",
       "      <td>NaN</td>\n",
       "      <td>NaN</td>\n",
       "      <td>NaN</td>\n",
       "      <td>NaN</td>\n",
       "      <td>NaN</td>\n",
       "      <td>NaN</td>\n",
       "      <td>Notebook</td>\n",
       "    </tr>\n",
       "    <tr>\n",
       "      <th>2</th>\n",
       "      <td>ThinkPad T15g 20UR001KGE - 15,6\" UHD IPS, Inte...</td>\n",
       "      <td>0.0</td>\n",
       "      <td>4.023,68 �</td>\n",
       "      <td>NaN</td>\n",
       "      <td>39,6 cm (15,6\") 3840 x 2160 Pixel (Ultra HD)\\n...</td>\n",
       "      <td>https://media.nbb-cdn.de/images/products/70000...</td>\n",
       "      <td>Notebook</td>\n",
       "    </tr>\n",
       "    <tr>\n",
       "      <th>3</th>\n",
       "      <td>NaN</td>\n",
       "      <td>NaN</td>\n",
       "      <td>NaN</td>\n",
       "      <td>NaN</td>\n",
       "      <td>NaN</td>\n",
       "      <td>NaN</td>\n",
       "      <td>Notebook</td>\n",
       "    </tr>\n",
       "    <tr>\n",
       "      <th>4</th>\n",
       "      <td>ThinkPad T15g 20UR001GGE - 15,6\" FHD IPS, Inte...</td>\n",
       "      <td>0.0</td>\n",
       "      <td>3.614,96 �</td>\n",
       "      <td>NaN</td>\n",
       "      <td>39,6 cm (15,6\") 1920 x 1080 Pixel (Full HD)\\n ...</td>\n",
       "      <td>https://media.nbb-cdn.de/images/products/70000...</td>\n",
       "      <td>Notebook</td>\n",
       "    </tr>\n",
       "  </tbody>\n",
       "</table>\n",
       "</div>"
      ],
      "text/plain": [
       "                                               Title  star-sum  \\\n",
       "0  ThinkPad P17 Gen1 20SN000XGE - 17,3\" UHD IPS, ...       0.0   \n",
       "1                                                NaN       NaN   \n",
       "2  ThinkPad T15g 20UR001KGE - 15,6\" UHD IPS, Inte...       0.0   \n",
       "3                                                NaN       NaN   \n",
       "4  ThinkPad T15g 20UR001GGE - 15,6\" FHD IPS, Inte...       0.0   \n",
       "\n",
       "  product-price__regular product sell price  \\\n",
       "0             5.503,74 �                NaN   \n",
       "1                    NaN                NaN   \n",
       "2             4.023,68 �                NaN   \n",
       "3                    NaN                NaN   \n",
       "4             3.614,96 �                NaN   \n",
       "\n",
       "                                         Description  \\\n",
       "0  43,9 cm (17,3\") 3840 x 2160 Pixel (Ultra HD) I...   \n",
       "1                                                NaN   \n",
       "2  39,6 cm (15,6\") 3840 x 2160 Pixel (Ultra HD)\\n...   \n",
       "3                                                NaN   \n",
       "4  39,6 cm (15,6\") 1920 x 1080 Pixel (Full HD)\\n ...   \n",
       "\n",
       "                                               image  Category  \n",
       "0  https://media.nbb-cdn.de/images/products/70000...  Notebook  \n",
       "1                                                NaN  Notebook  \n",
       "2  https://media.nbb-cdn.de/images/products/70000...  Notebook  \n",
       "3                                                NaN  Notebook  \n",
       "4  https://media.nbb-cdn.de/images/products/70000...  Notebook  "
      ]
     },
     "execution_count": 17,
     "metadata": {},
     "output_type": "execute_result"
    }
   ],
   "source": [
    "Notebook_df = pd.read_csv(\"Notebook.csv\")\n",
    "Notebook_df.head()"
   ]
  },
  {
   "cell_type": "code",
   "execution_count": 35,
   "id": "045c2a98",
   "metadata": {},
   "outputs": [],
   "source": [
    "price_df = Notebook_df['product-price__regular']"
   ]
  },
  {
   "cell_type": "code",
   "execution_count": 37,
   "id": "9b884da1",
   "metadata": {},
   "outputs": [
    {
     "name": "stdout",
     "output_type": "stream",
     "text": [
      "5.503,74 �\n",
      "<class 'str'>\n"
     ]
    }
   ],
   "source": [
    "print(price_df[0])\n",
    "print(type(price_df[0]))"
   ]
  },
  {
   "cell_type": "code",
   "execution_count": 77,
   "id": "9bfe279f",
   "metadata": {},
   "outputs": [
    {
     "name": "stdout",
     "output_type": "stream",
     "text": [
      "5.503,74 �\n"
     ]
    }
   ],
   "source": [
    "real_price = price_df[0].replace('.', 'X').replace(',', '.').replace('X', ',')\n",
    "print(real_price)"
   ]
  },
  {
   "cell_type": "code",
   "execution_count": 91,
   "id": "302be431",
   "metadata": {},
   "outputs": [],
   "source": [
    "\n",
    "urllib.request.urlretrieve(\"https://media.nbb-cdn.de/images/products/700000/701310/P1712.jpg?size=2800\", \"sample.png\")\n",
    "image = Image.open(\"sample.png\")\n"
   ]
  },
  {
   "cell_type": "code",
   "execution_count": 95,
   "id": "fe552021",
   "metadata": {},
   "outputs": [],
   "source": [
    "image.show()"
   ]
  },
  {
   "cell_type": "code",
   "execution_count": 93,
   "id": "2f35afc7",
   "metadata": {},
   "outputs": [],
   "source": [
    "resized_image = image.resize((800,800))\n",
    "resized_image.show()"
   ]
  },
  {
   "cell_type": "code",
   "execution_count": null,
   "id": "c015672b",
   "metadata": {},
   "outputs": [],
   "source": []
  }
 ],
 "metadata": {
  "kernelspec": {
   "display_name": "Python 3",
   "language": "python",
   "name": "python3"
  },
  "language_info": {
   "codemirror_mode": {
    "name": "ipython",
    "version": 3
   },
   "file_extension": ".py",
   "mimetype": "text/x-python",
   "name": "python",
   "nbconvert_exporter": "python",
   "pygments_lexer": "ipython3",
   "version": "3.9.0"
  }
 },
 "nbformat": 4,
 "nbformat_minor": 5
}
